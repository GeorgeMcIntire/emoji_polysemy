{
 "cells": [
  {
   "cell_type": "code",
   "execution_count": 1,
   "id": "a62dd924",
   "metadata": {},
   "outputs": [],
   "source": [
    "import torch\n",
    "import math\n",
    "import pandas as pd\n",
    "import numpy as np\n",
    "import matplotlib.pyplot as plt\n",
    "import seaborn as sb\n",
    "from transformers import AutoTokenizer, AutoModelForSequenceClassification\n",
    "import emoji\n",
    "from tqdm import tqdm\n",
    "from scipy.special import expit\n",
    "from collections import defaultdict\n",
    "from pysentimiento import create_analyzer"
   ]
  },
  {
   "cell_type": "code",
   "execution_count": 3,
   "id": "d6f482a5",
   "metadata": {},
   "outputs": [
    {
     "data": {
      "text/html": [
       "<div>\n",
       "<style scoped>\n",
       "    .dataframe tbody tr th:only-of-type {\n",
       "        vertical-align: middle;\n",
       "    }\n",
       "\n",
       "    .dataframe tbody tr th {\n",
       "        vertical-align: top;\n",
       "    }\n",
       "\n",
       "    .dataframe thead th {\n",
       "        text-align: right;\n",
       "    }\n",
       "</style>\n",
       "<table border=\"1\" class=\"dataframe\">\n",
       "  <thead>\n",
       "    <tr style=\"text-align: right;\">\n",
       "      <th></th>\n",
       "      <th>author_id</th>\n",
       "      <th>created_at</th>\n",
       "      <th>geo</th>\n",
       "      <th>tweet_id</th>\n",
       "      <th>like_count</th>\n",
       "      <th>quote_count</th>\n",
       "      <th>reply_count</th>\n",
       "      <th>retweet_count</th>\n",
       "      <th>text</th>\n",
       "    </tr>\n",
       "  </thead>\n",
       "  <tbody>\n",
       "    <tr>\n",
       "      <th>0</th>\n",
       "      <td>431948312</td>\n",
       "      <td>2017-01-30 23:55:49+00:00</td>\n",
       "      <td></td>\n",
       "      <td>826217383039729664</td>\n",
       "      <td>0.0</td>\n",
       "      <td>0.0</td>\n",
       "      <td>0.0</td>\n",
       "      <td>0.0</td>\n",
       "      <td>We have the power👊💥😂💚 https://t.co/8en3JNwkny</td>\n",
       "    </tr>\n",
       "    <tr>\n",
       "      <th>1</th>\n",
       "      <td>418718492</td>\n",
       "      <td>2017-05-30 23:56:15+00:00</td>\n",
       "      <td></td>\n",
       "      <td>869704038048202752</td>\n",
       "      <td>0.0</td>\n",
       "      <td>0.0</td>\n",
       "      <td>0.0</td>\n",
       "      <td>0.0</td>\n",
       "      <td>Sleep would be nice but Maiyahs cosies are bet...</td>\n",
       "    </tr>\n",
       "    <tr>\n",
       "      <th>2</th>\n",
       "      <td>340099697</td>\n",
       "      <td>2016-10-30 23:57:35+00:00</td>\n",
       "      <td>{'place_id': '31fd9d42c71e7afa'}</td>\n",
       "      <td>792878143887605760</td>\n",
       "      <td>1.0</td>\n",
       "      <td>0.0</td>\n",
       "      <td>0.0</td>\n",
       "      <td>0.0</td>\n",
       "      <td>Lynn mad af cause Eric ate her chocolate chip ...</td>\n",
       "    </tr>\n",
       "    <tr>\n",
       "      <th>3</th>\n",
       "      <td>1249825087525728257</td>\n",
       "      <td>2020-10-30 23:59:39+00:00</td>\n",
       "      <td></td>\n",
       "      <td>1322327339200630784</td>\n",
       "      <td>0.0</td>\n",
       "      <td>0.0</td>\n",
       "      <td>0.0</td>\n",
       "      <td>0.0</td>\n",
       "      <td>@KaileGedye text me cus I haven’t 🤣</td>\n",
       "    </tr>\n",
       "    <tr>\n",
       "      <th>4</th>\n",
       "      <td>205097885</td>\n",
       "      <td>2018-03-30 23:54:29+00:00</td>\n",
       "      <td></td>\n",
       "      <td>979869505622069248</td>\n",
       "      <td>0.0</td>\n",
       "      <td>0.0</td>\n",
       "      <td>1.0</td>\n",
       "      <td>0.0</td>\n",
       "      <td>@juanlabia @Skelebird Yea but i feel like you ...</td>\n",
       "    </tr>\n",
       "  </tbody>\n",
       "</table>\n",
       "</div>"
      ],
      "text/plain": [
       "             author_id                 created_at   \n",
       "0            431948312  2017-01-30 23:55:49+00:00  \\\n",
       "1            418718492  2017-05-30 23:56:15+00:00   \n",
       "2            340099697  2016-10-30 23:57:35+00:00   \n",
       "3  1249825087525728257  2020-10-30 23:59:39+00:00   \n",
       "4            205097885  2018-03-30 23:54:29+00:00   \n",
       "\n",
       "                                geo             tweet_id  like_count   \n",
       "0                                     826217383039729664         0.0  \\\n",
       "1                                     869704038048202752         0.0   \n",
       "2  {'place_id': '31fd9d42c71e7afa'}   792878143887605760         1.0   \n",
       "3                                    1322327339200630784         0.0   \n",
       "4                                     979869505622069248         0.0   \n",
       "\n",
       "   quote_count  reply_count  retweet_count   \n",
       "0          0.0          0.0            0.0  \\\n",
       "1          0.0          0.0            0.0   \n",
       "2          0.0          0.0            0.0   \n",
       "3          0.0          0.0            0.0   \n",
       "4          0.0          1.0            0.0   \n",
       "\n",
       "                                                text  \n",
       "0      We have the power👊💥😂💚 https://t.co/8en3JNwkny  \n",
       "1  Sleep would be nice but Maiyahs cosies are bet...  \n",
       "2  Lynn mad af cause Eric ate her chocolate chip ...  \n",
       "3                @KaileGedye text me cus I haven’t 🤣  \n",
       "4  @juanlabia @Skelebird Yea but i feel like you ...  "
      ]
     },
     "execution_count": 3,
     "metadata": {},
     "output_type": "execute_result"
    }
   ],
   "source": [
    "tweets = pd.read_csv(\"tweets_data.csv\").dropna(subset=[\"tweet_id\"])\n",
    "tweets.head()"
   ]
  },
  {
   "cell_type": "code",
   "execution_count": 6,
   "id": "056dab8f",
   "metadata": {},
   "outputs": [],
   "source": [
    "text = tweets.text"
   ]
  },
  {
   "cell_type": "markdown",
   "id": "5b3c2877",
   "metadata": {},
   "source": [
    "### Initialize sentiment and emotion models.\n",
    "\n",
    "I used the [pysentimiento](https://github.com/pysentimiento/pysentimiento) package to derive the sentiment and emotion scores. The data produced from these \n",
    "\n",
    "\n",
    "The sentiment analysis model classifies three classes: `POS`, `NEG`, `NEU`\n",
    "\n",
    "\n",
    "The emotion analysis model classifies seven classes: `anger`, `joy`, `sadness`, `fear`, `surprise`, `disgust`, `neutral`"
   ]
  },
  {
   "cell_type": "code",
   "execution_count": 4,
   "id": "5c776447",
   "metadata": {},
   "outputs": [],
   "source": [
    "sentiment_analyzer = create_analyzer(task=\"sentiment\", lang=\"en\")\n",
    "emotion_analyzer = create_analyzer(task=\"emotion\", lang=\"en\")\n"
   ]
  },
  {
   "cell_type": "markdown",
   "id": "fe0b0ca9",
   "metadata": {},
   "source": [
    "Iterate over corpus, extract sentiment, and save the output"
   ]
  },
  {
   "cell_type": "code",
   "execution_count": 5,
   "id": "22fa6912",
   "metadata": {},
   "outputs": [],
   "source": [
    "sentiments = []\n",
    "for txt in tqdm(text.tolist()):\n",
    "    sent = sentiment_analyzer.predict(txt).probas\n",
    "    sentiments.append(sent)"
   ]
  },
  {
   "cell_type": "markdown",
   "id": "3bf6c3d9",
   "metadata": {},
   "source": [
    "Save the sentiment scores to a pickle file"
   ]
  },
  {
   "cell_type": "code",
   "execution_count": null,
   "id": "9e8e219f",
   "metadata": {},
   "outputs": [],
   "source": [
    "sentiments = pd.DataFrame(index = tweets.tweet_id, sentiments)\n",
    "sentiments.to_pickle(\"sentiment.pkl\")"
   ]
  },
  {
   "cell_type": "markdown",
   "id": "fb421879",
   "metadata": {},
   "source": [
    "Repeat same process for emotions"
   ]
  },
  {
   "cell_type": "code",
   "execution_count": 13,
   "id": "4af3f120",
   "metadata": {},
   "outputs": [],
   "source": [
    "emotions = []\n",
    "for txt in tqdm(text.tolist()):\n",
    "    emo = emotion_analyzer.predict(txt).probas\n",
    "    emotions.append(emo)"
   ]
  },
  {
   "cell_type": "code",
   "execution_count": null,
   "id": "b5e95e10",
   "metadata": {},
   "outputs": [],
   "source": [
    "emotions = pd.DataFrame(index = tweets.tweet_id, emotions)\n",
    "emotions.to_pickle(\"emotions.pkl\")"
   ]
  },
  {
   "cell_type": "markdown",
   "id": "29f127bb",
   "metadata": {},
   "source": [
    "Initialize [topic model](https://huggingface.co/cardiffnlp/tweet-topic-21-multi) tokenizer and classifier."
   ]
  },
  {
   "cell_type": "code",
   "execution_count": 6,
   "id": "7a56c6f5",
   "metadata": {},
   "outputs": [],
   "source": [
    "tokenizer = AutoTokenizer.from_pretrained(\"cardiffnlp/twitter-roberta-base-dec2021-tweet-topic-multi-all\")\n",
    "model = AutoModelForSequenceClassification.from_pretrained(\"cardiffnlp/twitter-roberta-base-dec2021-tweet-topic-multi-all\", problem_type=\"multi_label_classification\")\n",
    "model.eval()\n",
    "class_mapping = model.config.id2label"
   ]
  },
  {
   "cell_type": "markdown",
   "id": "bce8ee8a",
   "metadata": {},
   "source": [
    "### Topics:\n",
    "\n",
    "![](topics.png)"
   ]
  },
  {
   "cell_type": "markdown",
   "id": "75e8e840",
   "metadata": {},
   "source": [
    "Extract topic scores and collect them."
   ]
  },
  {
   "cell_type": "code",
   "execution_count": null,
   "id": "eb153d08",
   "metadata": {},
   "outputs": [],
   "source": [
    "topic_scores = []\n",
    "for txt in tqdm(text.tolist()):\n",
    "    tokens = tokenizer(txt, return_tensors='pt')\n",
    "    output = model(**tokens)\n",
    "\n",
    "    scores = output[0][0].detach().numpy()\n",
    "    scores = expit(scores)\n",
    "    topic_scores.append(scores)"
   ]
  },
  {
   "cell_type": "markdown",
   "id": "0059ebd9",
   "metadata": {},
   "source": [
    "Save topic scores to a pickle file."
   ]
  },
  {
   "cell_type": "code",
   "execution_count": null,
   "id": "a993971d",
   "metadata": {},
   "outputs": [],
   "source": [
    "cols = list(class_mapping.values())\n",
    "topic_scores = pd.DataFrame(index= tweets.tweet_id, data = topic_scores, columns = cols)\n",
    "topic_scores.to_pickle('topic_scores_df.pkl')"
   ]
  }
 ],
 "metadata": {
  "kernelspec": {
   "display_name": "Python 3 (ipykernel)",
   "language": "python",
   "name": "python3"
  },
  "language_info": {
   "codemirror_mode": {
    "name": "ipython",
    "version": 3
   },
   "file_extension": ".py",
   "mimetype": "text/x-python",
   "name": "python",
   "nbconvert_exporter": "python",
   "pygments_lexer": "ipython3",
   "version": "3.9.12"
  }
 },
 "nbformat": 4,
 "nbformat_minor": 5
}
