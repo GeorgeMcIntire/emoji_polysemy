{
 "cells": [
  {
   "cell_type": "markdown",
   "id": "a96efcbc",
   "metadata": {},
   "source": [
    "# Emoji Polysemy Project\n",
    "\n",
    "## Data Wrangling, Processing, and Analysis"
   ]
  },
  {
   "cell_type": "code",
   "execution_count": 1,
   "id": "26e127d4",
   "metadata": {},
   "outputs": [],
   "source": [
    "import torch\n",
    "from transformers import AutoTokenizer, AutoModel\n",
    "\n",
    "import matplotlib.pyplot as plt\n",
    "import pandas as pd\n",
    "import numpy as np\n",
    "from scipy import stats\n",
    "from sklearn.feature_extraction.text import CountVectorizer\n",
    "import emoji\n",
    "from tqdm import tqdm\n",
    "from collections import defaultdict\n"
   ]
  },
  {
   "cell_type": "code",
   "execution_count": 13,
   "id": "ff93ba79",
   "metadata": {},
   "outputs": [
    {
     "data": {
      "text/html": [
       "<div>\n",
       "<style scoped>\n",
       "    .dataframe tbody tr th:only-of-type {\n",
       "        vertical-align: middle;\n",
       "    }\n",
       "\n",
       "    .dataframe tbody tr th {\n",
       "        vertical-align: top;\n",
       "    }\n",
       "\n",
       "    .dataframe thead th {\n",
       "        text-align: right;\n",
       "    }\n",
       "</style>\n",
       "<table border=\"1\" class=\"dataframe\">\n",
       "  <thead>\n",
       "    <tr style=\"text-align: right;\">\n",
       "      <th></th>\n",
       "      <th>author_id</th>\n",
       "      <th>created_at</th>\n",
       "      <th>geo</th>\n",
       "      <th>tweet_id</th>\n",
       "      <th>like_count</th>\n",
       "      <th>quote_count</th>\n",
       "      <th>reply_count</th>\n",
       "      <th>retweet_count</th>\n",
       "      <th>text</th>\n",
       "    </tr>\n",
       "  </thead>\n",
       "  <tbody>\n",
       "    <tr>\n",
       "      <th>0</th>\n",
       "      <td>431948312</td>\n",
       "      <td>2017-01-30 23:55:49+00:00</td>\n",
       "      <td></td>\n",
       "      <td>826217383039729664</td>\n",
       "      <td>0.0</td>\n",
       "      <td>0.0</td>\n",
       "      <td>0.0</td>\n",
       "      <td>0.0</td>\n",
       "      <td>We have the power👊💥😂💚 https://t.co/8en3JNwkny</td>\n",
       "    </tr>\n",
       "    <tr>\n",
       "      <th>1</th>\n",
       "      <td>418718492</td>\n",
       "      <td>2017-05-30 23:56:15+00:00</td>\n",
       "      <td></td>\n",
       "      <td>869704038048202752</td>\n",
       "      <td>0.0</td>\n",
       "      <td>0.0</td>\n",
       "      <td>0.0</td>\n",
       "      <td>0.0</td>\n",
       "      <td>Sleep would be nice but Maiyahs cosies are bet...</td>\n",
       "    </tr>\n",
       "    <tr>\n",
       "      <th>2</th>\n",
       "      <td>340099697</td>\n",
       "      <td>2016-10-30 23:57:35+00:00</td>\n",
       "      <td>{'place_id': '31fd9d42c71e7afa'}</td>\n",
       "      <td>792878143887605760</td>\n",
       "      <td>1.0</td>\n",
       "      <td>0.0</td>\n",
       "      <td>0.0</td>\n",
       "      <td>0.0</td>\n",
       "      <td>Lynn mad af cause Eric ate her chocolate chip ...</td>\n",
       "    </tr>\n",
       "    <tr>\n",
       "      <th>3</th>\n",
       "      <td>1249825087525728257</td>\n",
       "      <td>2020-10-30 23:59:39+00:00</td>\n",
       "      <td></td>\n",
       "      <td>1322327339200630784</td>\n",
       "      <td>0.0</td>\n",
       "      <td>0.0</td>\n",
       "      <td>0.0</td>\n",
       "      <td>0.0</td>\n",
       "      <td>@KaileGedye text me cus I haven’t 🤣</td>\n",
       "    </tr>\n",
       "    <tr>\n",
       "      <th>4</th>\n",
       "      <td>205097885</td>\n",
       "      <td>2018-03-30 23:54:29+00:00</td>\n",
       "      <td></td>\n",
       "      <td>979869505622069248</td>\n",
       "      <td>0.0</td>\n",
       "      <td>0.0</td>\n",
       "      <td>1.0</td>\n",
       "      <td>0.0</td>\n",
       "      <td>@juanlabia @Skelebird Yea but i feel like you ...</td>\n",
       "    </tr>\n",
       "  </tbody>\n",
       "</table>\n",
       "</div>"
      ],
      "text/plain": [
       "             author_id                created_at  \\\n",
       "0            431948312 2017-01-30 23:55:49+00:00   \n",
       "1            418718492 2017-05-30 23:56:15+00:00   \n",
       "2            340099697 2016-10-30 23:57:35+00:00   \n",
       "3  1249825087525728257 2020-10-30 23:59:39+00:00   \n",
       "4            205097885 2018-03-30 23:54:29+00:00   \n",
       "\n",
       "                                geo             tweet_id  like_count  \\\n",
       "0                                     826217383039729664         0.0   \n",
       "1                                     869704038048202752         0.0   \n",
       "2  {'place_id': '31fd9d42c71e7afa'}   792878143887605760         1.0   \n",
       "3                                    1322327339200630784         0.0   \n",
       "4                                     979869505622069248         0.0   \n",
       "\n",
       "   quote_count  reply_count  retweet_count  \\\n",
       "0          0.0          0.0            0.0   \n",
       "1          0.0          0.0            0.0   \n",
       "2          0.0          0.0            0.0   \n",
       "3          0.0          0.0            0.0   \n",
       "4          0.0          1.0            0.0   \n",
       "\n",
       "                                                text  \n",
       "0      We have the power👊💥😂💚 https://t.co/8en3JNwkny  \n",
       "1  Sleep would be nice but Maiyahs cosies are bet...  \n",
       "2  Lynn mad af cause Eric ate her chocolate chip ...  \n",
       "3                @KaileGedye text me cus I haven’t 🤣  \n",
       "4  @juanlabia @Skelebird Yea but i feel like you ...  "
      ]
     },
     "execution_count": 13,
     "metadata": {},
     "output_type": "execute_result"
    }
   ],
   "source": [
    "df = pd.read_csv(\"tweets_data.csv\", parse_dates=[\"created_at\"])\n",
    "df.head()"
   ]
  },
  {
   "cell_type": "code",
   "execution_count": 14,
   "id": "4da55542",
   "metadata": {},
   "outputs": [],
   "source": [
    "df.loc[:, \"year\"] = df.created_at.dt.year"
   ]
  },
  {
   "cell_type": "code",
   "execution_count": 15,
   "id": "1749078a",
   "metadata": {},
   "outputs": [
    {
     "data": {
      "text/plain": [
       "2014    65333\n",
       "2015    65340\n",
       "2016    65236\n",
       "2017    65034\n",
       "2018    64943\n",
       "2019    64537\n",
       "2020    63403\n",
       "2021    63812\n",
       "Name: year, dtype: int64"
      ]
     },
     "execution_count": 15,
     "metadata": {},
     "output_type": "execute_result"
    }
   ],
   "source": [
    "df.year.value_counts().sort_index()"
   ]
  },
  {
   "cell_type": "code",
   "execution_count": 16,
   "id": "6ae8dc45",
   "metadata": {},
   "outputs": [
    {
     "name": "stdout",
     "output_type": "stream",
     "text": [
      "<class 'pandas.core.frame.DataFrame'>\n",
      "RangeIndex: 517638 entries, 0 to 517637\n",
      "Data columns (total 10 columns):\n",
      " #   Column         Non-Null Count   Dtype              \n",
      "---  ------         --------------   -----              \n",
      " 0   author_id      517638 non-null  int64              \n",
      " 1   created_at     517638 non-null  datetime64[ns, UTC]\n",
      " 2   geo            517638 non-null  object             \n",
      " 3   tweet_id       517638 non-null  int64              \n",
      " 4   like_count     517638 non-null  float64            \n",
      " 5   quote_count    517638 non-null  float64            \n",
      " 6   reply_count    517638 non-null  float64            \n",
      " 7   retweet_count  517638 non-null  float64            \n",
      " 8   text           517638 non-null  object             \n",
      " 9   year           517638 non-null  int64              \n",
      "dtypes: datetime64[ns, UTC](1), float64(4), int64(3), object(2)\n",
      "memory usage: 39.5+ MB\n"
     ]
    }
   ],
   "source": [
    "df.info()"
   ]
  },
  {
   "cell_type": "markdown",
   "id": "ded35019",
   "metadata": {},
   "source": [
    "Dataset ranges from 1/30/14 to 12/30/21"
   ]
  },
  {
   "cell_type": "code",
   "execution_count": 18,
   "id": "1c09719e",
   "metadata": {},
   "outputs": [
    {
     "name": "stderr",
     "output_type": "stream",
     "text": [
      "/var/folders/lj/w4hy005d5vx9qy3lrwz0xdl80000gn/T/ipykernel_35886/1951218934.py:1: FutureWarning: Treating datetime data as categorical rather than numeric in `.describe` is deprecated and will be removed in a future version of pandas. Specify `datetime_is_numeric=True` to silence this warning and adopt the future behavior now.\n",
      "  df.created_at.describe()\n"
     ]
    },
    {
     "data": {
      "text/plain": [
       "count                        517638\n",
       "unique                        20669\n",
       "top       2014-06-29 23:59:25+00:00\n",
       "freq                            120\n",
       "first     2014-01-30 23:57:31+00:00\n",
       "last      2021-12-30 23:59:59+00:00\n",
       "Name: created_at, dtype: object"
      ]
     },
     "execution_count": 18,
     "metadata": {},
     "output_type": "execute_result"
    }
   ],
   "source": [
    "df.created_at.describe()"
   ]
  },
  {
   "cell_type": "code",
   "execution_count": 19,
   "id": "470daf8e",
   "metadata": {},
   "outputs": [],
   "source": [
    "cv = CountVectorizer(analyzer=\"char\", binary=True)"
   ]
  },
  {
   "cell_type": "code",
   "execution_count": 20,
   "id": "8ca93ad6",
   "metadata": {},
   "outputs": [
    {
     "data": {
      "text/plain": [
       "CountVectorizer(analyzer='char', binary=True)"
      ]
     },
     "execution_count": 20,
     "metadata": {},
     "output_type": "execute_result"
    }
   ],
   "source": [
    "cv.fit(df.text.tolist())"
   ]
  },
  {
   "cell_type": "code",
   "execution_count": 21,
   "id": "c52d123d",
   "metadata": {},
   "outputs": [],
   "source": [
    "features = cv.get_feature_names()"
   ]
  },
  {
   "cell_type": "code",
   "execution_count": 22,
   "id": "9f4274e5",
   "metadata": {},
   "outputs": [
    {
     "data": {
      "text/plain": [
       "1227"
      ]
     },
     "execution_count": 22,
     "metadata": {},
     "output_type": "execute_result"
    }
   ],
   "source": [
    "feature_emojis = [i for i in features if i in emoji.UNICODE_EMOJI_ENGLISH]\n",
    "len(feature_emojis)"
   ]
  },
  {
   "cell_type": "code",
   "execution_count": 23,
   "id": "3be52598",
   "metadata": {},
   "outputs": [],
   "source": [
    "emoji_dtm = cv.transform(df.text.tolist())\n",
    "emoji_dtm = pd.DataFrame(index = df.tweet_id, data = emoji_dtm.toarray(), columns=features).astype('int16')"
   ]
  },
  {
   "cell_type": "code",
   "execution_count": 24,
   "id": "7909dbd8",
   "metadata": {},
   "outputs": [],
   "source": [
    "emoji_dtm = emoji_dtm[feature_emojis]"
   ]
  },
  {
   "cell_type": "code",
   "execution_count": 25,
   "id": "7e0371d3",
   "metadata": {},
   "outputs": [
    {
     "name": "stdout",
     "output_type": "stream",
     "text": [
      "<class 'pandas.core.frame.DataFrame'>\n",
      "Int64Index: 517638 entries, 826217383039729664 to 1090761093826265216\n",
      "Columns: 1227 entries, © to 🫖\n",
      "dtypes: int16(1227)\n",
      "memory usage: 1.2 GB\n"
     ]
    }
   ],
   "source": [
    "emoji_dtm.info()"
   ]
  },
  {
   "cell_type": "code",
   "execution_count": 26,
   "id": "f2804d7d",
   "metadata": {},
   "outputs": [],
   "source": [
    "emoji_freq = emoji_dtm.sum()"
   ]
  },
  {
   "cell_type": "code",
   "execution_count": 27,
   "id": "f26561ca",
   "metadata": {},
   "outputs": [
    {
     "data": {
      "image/png": "[encoded data removed]",
      "text/plain": [
       "<Figure size 432x288 with 1 Axes>"
      ]
     },
     "metadata": {
      "needs_background": "light"
     },
     "output_type": "display_data"
    }
   ],
   "source": [
    "emoji_freq.hist()\n",
    "plt.yscale(\"log\")"
   ]
  },
  {
   "cell_type": "code",
   "execution_count": 28,
   "id": "168c93d2",
   "metadata": {},
   "outputs": [
    {
     "data": {
      "image/png": "[encoded data removed]",
      "text/plain": [
       "<Figure size 648x432 with 1 Axes>"
      ]
     },
     "metadata": {
      "needs_background": "light"
     },
     "output_type": "display_data"
    }
   ],
   "source": [
    "plt.figure(figsize=(9, 6))\n",
    "plt.plot(emoji_freq.sort_values().rank(pct =True), emoji_freq.sort_values())\n",
    "plt.yscale(\"log\")"
   ]
  },
  {
   "cell_type": "markdown",
   "id": "2127068e",
   "metadata": {},
   "source": [
    "Only 50 emojis have been used in at least 2000 tweets"
   ]
  },
  {
   "cell_type": "code",
   "execution_count": 31,
   "id": "8e5018f0",
   "metadata": {},
   "outputs": [
    {
     "data": {
      "text/plain": [
       "50"
      ]
     },
     "execution_count": 31,
     "metadata": {},
     "output_type": "execute_result"
    }
   ],
   "source": [
    "(emoji_freq>=2000).sum()"
   ]
  },
  {
   "cell_type": "code",
   "execution_count": 32,
   "id": "bb4b6944",
   "metadata": {},
   "outputs": [],
   "source": [
    "top_emojis = emoji_freq[emoji_freq>=2000].index"
   ]
  },
  {
   "cell_type": "code",
   "execution_count": 33,
   "id": "96ff5b03",
   "metadata": {},
   "outputs": [],
   "source": [
    "top_emojis_dtm = emoji_dtm[top_emojis]"
   ]
  },
  {
   "cell_type": "markdown",
   "id": "aaed24e7",
   "metadata": {},
   "source": [
    "Filter out tweet ids that don't feature any of the top 50 emojis"
   ]
  },
  {
   "cell_type": "code",
   "execution_count": 34,
   "id": "ea84d0f2",
   "metadata": {},
   "outputs": [],
   "source": [
    "top_emojis_dtm = top_emojis_dtm[top_emojis_dtm.sum(axis = 1) > 0]"
   ]
  },
  {
   "cell_type": "code",
   "execution_count": 35,
   "id": "9fdbe13b",
   "metadata": {},
   "outputs": [
    {
     "data": {
      "text/plain": [
       "(517501, 50)"
      ]
     },
     "execution_count": 35,
     "metadata": {},
     "output_type": "execute_result"
    }
   ],
   "source": [
    "top_emojis_dtm.shape"
   ]
  },
  {
   "cell_type": "markdown",
   "id": "a1eb7471",
   "metadata": {},
   "source": [
    "We've significantly narrowed down our pool of emojis to to analyze. "
   ]
  },
  {
   "cell_type": "markdown",
   "id": "51333534",
   "metadata": {},
   "source": [
    "I want to see if some emojis that do not appear at all or infrequently for each of the eight years in the dataset."
   ]
  },
  {
   "cell_type": "code",
   "execution_count": 37,
   "id": "c4ae6958",
   "metadata": {},
   "outputs": [],
   "source": [
    "year = df.year.set_axis(df.tweet_id)"
   ]
  },
  {
   "cell_type": "code",
   "execution_count": 38,
   "id": "0e9a7a3d",
   "metadata": {},
   "outputs": [
    {
     "data": {
      "text/html": [
       "<div>\n",
       "<style scoped>\n",
       "    .dataframe tbody tr th:only-of-type {\n",
       "        vertical-align: middle;\n",
       "    }\n",
       "\n",
       "    .dataframe tbody tr th {\n",
       "        vertical-align: top;\n",
       "    }\n",
       "\n",
       "    .dataframe thead th {\n",
       "        text-align: right;\n",
       "    }\n",
       "</style>\n",
       "<table border=\"1\" class=\"dataframe\">\n",
       "  <thead>\n",
       "    <tr style=\"text-align: right;\">\n",
       "      <th></th>\n",
       "      <th>☺</th>\n",
       "      <th>♀</th>\n",
       "      <th>♂</th>\n",
       "      <th>✌</th>\n",
       "      <th>✨</th>\n",
       "      <th>❤</th>\n",
       "      <th>🎉</th>\n",
       "      <th>🏻</th>\n",
       "      <th>🏼</th>\n",
       "      <th>🏽</th>\n",
       "      <th>...</th>\n",
       "      <th>🙄</th>\n",
       "      <th>🙈</th>\n",
       "      <th>🙌</th>\n",
       "      <th>🙏</th>\n",
       "      <th>🤣</th>\n",
       "      <th>🤦</th>\n",
       "      <th>🤷</th>\n",
       "      <th>🥰</th>\n",
       "      <th>🥺</th>\n",
       "      <th>year</th>\n",
       "    </tr>\n",
       "    <tr>\n",
       "      <th>tweet_id</th>\n",
       "      <th></th>\n",
       "      <th></th>\n",
       "      <th></th>\n",
       "      <th></th>\n",
       "      <th></th>\n",
       "      <th></th>\n",
       "      <th></th>\n",
       "      <th></th>\n",
       "      <th></th>\n",
       "      <th></th>\n",
       "      <th></th>\n",
       "      <th></th>\n",
       "      <th></th>\n",
       "      <th></th>\n",
       "      <th></th>\n",
       "      <th></th>\n",
       "      <th></th>\n",
       "      <th></th>\n",
       "      <th></th>\n",
       "      <th></th>\n",
       "      <th></th>\n",
       "    </tr>\n",
       "  </thead>\n",
       "  <tbody>\n",
       "    <tr>\n",
       "      <th>826217383039729664</th>\n",
       "      <td>0</td>\n",
       "      <td>0</td>\n",
       "      <td>0</td>\n",
       "      <td>0</td>\n",
       "      <td>0</td>\n",
       "      <td>0</td>\n",
       "      <td>0</td>\n",
       "      <td>0</td>\n",
       "      <td>0</td>\n",
       "      <td>0</td>\n",
       "      <td>...</td>\n",
       "      <td>0</td>\n",
       "      <td>0</td>\n",
       "      <td>0</td>\n",
       "      <td>0</td>\n",
       "      <td>0</td>\n",
       "      <td>0</td>\n",
       "      <td>0</td>\n",
       "      <td>0</td>\n",
       "      <td>0</td>\n",
       "      <td>2017</td>\n",
       "    </tr>\n",
       "    <tr>\n",
       "      <th>869704038048202752</th>\n",
       "      <td>0</td>\n",
       "      <td>0</td>\n",
       "      <td>0</td>\n",
       "      <td>0</td>\n",
       "      <td>0</td>\n",
       "      <td>1</td>\n",
       "      <td>0</td>\n",
       "      <td>0</td>\n",
       "      <td>0</td>\n",
       "      <td>0</td>\n",
       "      <td>...</td>\n",
       "      <td>0</td>\n",
       "      <td>0</td>\n",
       "      <td>0</td>\n",
       "      <td>0</td>\n",
       "      <td>0</td>\n",
       "      <td>0</td>\n",
       "      <td>0</td>\n",
       "      <td>0</td>\n",
       "      <td>0</td>\n",
       "      <td>2017</td>\n",
       "    </tr>\n",
       "    <tr>\n",
       "      <th>792878143887605760</th>\n",
       "      <td>0</td>\n",
       "      <td>0</td>\n",
       "      <td>0</td>\n",
       "      <td>0</td>\n",
       "      <td>0</td>\n",
       "      <td>0</td>\n",
       "      <td>0</td>\n",
       "      <td>0</td>\n",
       "      <td>0</td>\n",
       "      <td>0</td>\n",
       "      <td>...</td>\n",
       "      <td>0</td>\n",
       "      <td>0</td>\n",
       "      <td>0</td>\n",
       "      <td>0</td>\n",
       "      <td>0</td>\n",
       "      <td>0</td>\n",
       "      <td>0</td>\n",
       "      <td>0</td>\n",
       "      <td>0</td>\n",
       "      <td>2016</td>\n",
       "    </tr>\n",
       "    <tr>\n",
       "      <th>1322327339200630784</th>\n",
       "      <td>0</td>\n",
       "      <td>0</td>\n",
       "      <td>0</td>\n",
       "      <td>0</td>\n",
       "      <td>0</td>\n",
       "      <td>0</td>\n",
       "      <td>0</td>\n",
       "      <td>0</td>\n",
       "      <td>0</td>\n",
       "      <td>0</td>\n",
       "      <td>...</td>\n",
       "      <td>0</td>\n",
       "      <td>0</td>\n",
       "      <td>0</td>\n",
       "      <td>0</td>\n",
       "      <td>1</td>\n",
       "      <td>0</td>\n",
       "      <td>0</td>\n",
       "      <td>0</td>\n",
       "      <td>0</td>\n",
       "      <td>2020</td>\n",
       "    </tr>\n",
       "    <tr>\n",
       "      <th>979869505622069248</th>\n",
       "      <td>0</td>\n",
       "      <td>0</td>\n",
       "      <td>0</td>\n",
       "      <td>0</td>\n",
       "      <td>0</td>\n",
       "      <td>0</td>\n",
       "      <td>0</td>\n",
       "      <td>0</td>\n",
       "      <td>0</td>\n",
       "      <td>0</td>\n",
       "      <td>...</td>\n",
       "      <td>0</td>\n",
       "      <td>0</td>\n",
       "      <td>0</td>\n",
       "      <td>0</td>\n",
       "      <td>0</td>\n",
       "      <td>0</td>\n",
       "      <td>0</td>\n",
       "      <td>0</td>\n",
       "      <td>0</td>\n",
       "      <td>2018</td>\n",
       "    </tr>\n",
       "  </tbody>\n",
       "</table>\n",
       "<p>5 rows × 51 columns</p>\n",
       "</div>"
      ],
      "text/plain": [
       "                     ☺  ♀  ♂  ✌  ✨  ❤  🎉  🏻  🏼  🏽  ...  🙄  🙈  🙌  🙏  🤣  🤦  🤷  \\\n",
       "tweet_id                                           ...                        \n",
       "826217383039729664   0  0  0  0  0  0  0  0  0  0  ...  0  0  0  0  0  0  0   \n",
       "869704038048202752   0  0  0  0  0  1  0  0  0  0  ...  0  0  0  0  0  0  0   \n",
       "792878143887605760   0  0  0  0  0  0  0  0  0  0  ...  0  0  0  0  0  0  0   \n",
       "1322327339200630784  0  0  0  0  0  0  0  0  0  0  ...  0  0  0  0  1  0  0   \n",
       "979869505622069248   0  0  0  0  0  0  0  0  0  0  ...  0  0  0  0  0  0  0   \n",
       "\n",
       "                     🥰  🥺  year  \n",
       "tweet_id                         \n",
       "826217383039729664   0  0  2017  \n",
       "869704038048202752   0  0  2017  \n",
       "792878143887605760   0  0  2016  \n",
       "1322327339200630784  0  0  2020  \n",
       "979869505622069248   0  0  2018  \n",
       "\n",
       "[5 rows x 51 columns]"
      ]
     },
     "execution_count": 38,
     "metadata": {},
     "output_type": "execute_result"
    }
   ],
   "source": [
    "emojis_year = pd.concat([top_emojis_dtm, year], axis = 1, join = \"inner\")\n",
    "emojis_year.head()"
   ]
  },
  {
   "cell_type": "code",
   "execution_count": 39,
   "id": "9a7917f5",
   "metadata": {},
   "outputs": [
    {
     "data": {
      "text/html": [
       "<div>\n",
       "<style scoped>\n",
       "    .dataframe tbody tr th:only-of-type {\n",
       "        vertical-align: middle;\n",
       "    }\n",
       "\n",
       "    .dataframe tbody tr th {\n",
       "        vertical-align: top;\n",
       "    }\n",
       "\n",
       "    .dataframe thead th {\n",
       "        text-align: right;\n",
       "    }\n",
       "</style>\n",
       "<table border=\"1\" class=\"dataframe\">\n",
       "  <thead>\n",
       "    <tr style=\"text-align: right;\">\n",
       "      <th></th>\n",
       "      <th>☺</th>\n",
       "      <th>♀</th>\n",
       "      <th>♂</th>\n",
       "      <th>✌</th>\n",
       "      <th>✨</th>\n",
       "      <th>❤</th>\n",
       "      <th>🎉</th>\n",
       "      <th>🏻</th>\n",
       "      <th>🏼</th>\n",
       "      <th>🏽</th>\n",
       "      <th>...</th>\n",
       "      <th>😳</th>\n",
       "      <th>🙄</th>\n",
       "      <th>🙈</th>\n",
       "      <th>🙌</th>\n",
       "      <th>🙏</th>\n",
       "      <th>🤣</th>\n",
       "      <th>🤦</th>\n",
       "      <th>🤷</th>\n",
       "      <th>🥰</th>\n",
       "      <th>🥺</th>\n",
       "    </tr>\n",
       "    <tr>\n",
       "      <th>year</th>\n",
       "      <th></th>\n",
       "      <th></th>\n",
       "      <th></th>\n",
       "      <th></th>\n",
       "      <th></th>\n",
       "      <th></th>\n",
       "      <th></th>\n",
       "      <th></th>\n",
       "      <th></th>\n",
       "      <th></th>\n",
       "      <th></th>\n",
       "      <th></th>\n",
       "      <th></th>\n",
       "      <th></th>\n",
       "      <th></th>\n",
       "      <th></th>\n",
       "      <th></th>\n",
       "      <th></th>\n",
       "      <th></th>\n",
       "      <th></th>\n",
       "      <th></th>\n",
       "    </tr>\n",
       "  </thead>\n",
       "  <tbody>\n",
       "    <tr>\n",
       "      <th>2014</th>\n",
       "      <td>741.0</td>\n",
       "      <td>0.0</td>\n",
       "      <td>0.0</td>\n",
       "      <td>474.0</td>\n",
       "      <td>1699.0</td>\n",
       "      <td>8110.0</td>\n",
       "      <td>355.0</td>\n",
       "      <td>0.0</td>\n",
       "      <td>0.0</td>\n",
       "      <td>0.0</td>\n",
       "      <td>...</td>\n",
       "      <td>696.0</td>\n",
       "      <td>0.0</td>\n",
       "      <td>1047.0</td>\n",
       "      <td>1411.0</td>\n",
       "      <td>3865.0</td>\n",
       "      <td>0.0</td>\n",
       "      <td>0.0</td>\n",
       "      <td>0.0</td>\n",
       "      <td>0.0</td>\n",
       "      <td>0.0</td>\n",
       "    </tr>\n",
       "    <tr>\n",
       "      <th>2015</th>\n",
       "      <td>581.0</td>\n",
       "      <td>0.0</td>\n",
       "      <td>0.0</td>\n",
       "      <td>385.0</td>\n",
       "      <td>2774.0</td>\n",
       "      <td>11655.0</td>\n",
       "      <td>450.0</td>\n",
       "      <td>459.0</td>\n",
       "      <td>623.0</td>\n",
       "      <td>458.0</td>\n",
       "      <td>...</td>\n",
       "      <td>314.0</td>\n",
       "      <td>105.0</td>\n",
       "      <td>781.0</td>\n",
       "      <td>1061.0</td>\n",
       "      <td>3569.0</td>\n",
       "      <td>0.0</td>\n",
       "      <td>0.0</td>\n",
       "      <td>0.0</td>\n",
       "      <td>0.0</td>\n",
       "      <td>0.0</td>\n",
       "    </tr>\n",
       "    <tr>\n",
       "      <th>2016</th>\n",
       "      <td>327.0</td>\n",
       "      <td>23.0</td>\n",
       "      <td>16.0</td>\n",
       "      <td>249.0</td>\n",
       "      <td>1854.0</td>\n",
       "      <td>9879.0</td>\n",
       "      <td>389.0</td>\n",
       "      <td>654.0</td>\n",
       "      <td>752.0</td>\n",
       "      <td>753.0</td>\n",
       "      <td>...</td>\n",
       "      <td>218.0</td>\n",
       "      <td>848.0</td>\n",
       "      <td>356.0</td>\n",
       "      <td>614.0</td>\n",
       "      <td>1307.0</td>\n",
       "      <td>46.0</td>\n",
       "      <td>13.0</td>\n",
       "      <td>8.0</td>\n",
       "      <td>0.0</td>\n",
       "      <td>0.0</td>\n",
       "    </tr>\n",
       "    <tr>\n",
       "      <th>2017</th>\n",
       "      <td>200.0</td>\n",
       "      <td>1088.0</td>\n",
       "      <td>411.0</td>\n",
       "      <td>205.0</td>\n",
       "      <td>2110.0</td>\n",
       "      <td>10199.0</td>\n",
       "      <td>336.0</td>\n",
       "      <td>782.0</td>\n",
       "      <td>764.0</td>\n",
       "      <td>1237.0</td>\n",
       "      <td>...</td>\n",
       "      <td>164.0</td>\n",
       "      <td>519.0</td>\n",
       "      <td>258.0</td>\n",
       "      <td>594.0</td>\n",
       "      <td>1740.0</td>\n",
       "      <td>1245.0</td>\n",
       "      <td>775.0</td>\n",
       "      <td>668.0</td>\n",
       "      <td>0.0</td>\n",
       "      <td>0.0</td>\n",
       "    </tr>\n",
       "    <tr>\n",
       "      <th>2018</th>\n",
       "      <td>186.0</td>\n",
       "      <td>1205.0</td>\n",
       "      <td>621.0</td>\n",
       "      <td>196.0</td>\n",
       "      <td>2052.0</td>\n",
       "      <td>10434.0</td>\n",
       "      <td>252.0</td>\n",
       "      <td>836.0</td>\n",
       "      <td>668.0</td>\n",
       "      <td>1085.0</td>\n",
       "      <td>...</td>\n",
       "      <td>131.0</td>\n",
       "      <td>397.0</td>\n",
       "      <td>163.0</td>\n",
       "      <td>509.0</td>\n",
       "      <td>2056.0</td>\n",
       "      <td>2863.0</td>\n",
       "      <td>879.0</td>\n",
       "      <td>763.0</td>\n",
       "      <td>354.0</td>\n",
       "      <td>77.0</td>\n",
       "    </tr>\n",
       "    <tr>\n",
       "      <th>2019</th>\n",
       "      <td>186.0</td>\n",
       "      <td>871.0</td>\n",
       "      <td>575.0</td>\n",
       "      <td>158.0</td>\n",
       "      <td>1879.0</td>\n",
       "      <td>9156.0</td>\n",
       "      <td>182.0</td>\n",
       "      <td>642.0</td>\n",
       "      <td>543.0</td>\n",
       "      <td>847.0</td>\n",
       "      <td>...</td>\n",
       "      <td>170.0</td>\n",
       "      <td>283.0</td>\n",
       "      <td>139.0</td>\n",
       "      <td>375.0</td>\n",
       "      <td>2269.0</td>\n",
       "      <td>3828.0</td>\n",
       "      <td>691.0</td>\n",
       "      <td>571.0</td>\n",
       "      <td>2227.0</td>\n",
       "      <td>3073.0</td>\n",
       "    </tr>\n",
       "    <tr>\n",
       "      <th>2020</th>\n",
       "      <td>161.0</td>\n",
       "      <td>585.0</td>\n",
       "      <td>359.0</td>\n",
       "      <td>408.0</td>\n",
       "      <td>2857.0</td>\n",
       "      <td>9073.0</td>\n",
       "      <td>182.0</td>\n",
       "      <td>643.0</td>\n",
       "      <td>403.0</td>\n",
       "      <td>610.0</td>\n",
       "      <td>...</td>\n",
       "      <td>206.0</td>\n",
       "      <td>216.0</td>\n",
       "      <td>114.0</td>\n",
       "      <td>286.0</td>\n",
       "      <td>2710.0</td>\n",
       "      <td>4168.0</td>\n",
       "      <td>434.0</td>\n",
       "      <td>332.0</td>\n",
       "      <td>2578.0</td>\n",
       "      <td>6134.0</td>\n",
       "    </tr>\n",
       "    <tr>\n",
       "      <th>2021</th>\n",
       "      <td>206.0</td>\n",
       "      <td>388.0</td>\n",
       "      <td>326.0</td>\n",
       "      <td>152.0</td>\n",
       "      <td>3596.0</td>\n",
       "      <td>8968.0</td>\n",
       "      <td>207.0</td>\n",
       "      <td>616.0</td>\n",
       "      <td>321.0</td>\n",
       "      <td>463.0</td>\n",
       "      <td>...</td>\n",
       "      <td>199.0</td>\n",
       "      <td>172.0</td>\n",
       "      <td>102.0</td>\n",
       "      <td>290.0</td>\n",
       "      <td>3517.0</td>\n",
       "      <td>4950.0</td>\n",
       "      <td>315.0</td>\n",
       "      <td>232.0</td>\n",
       "      <td>3114.0</td>\n",
       "      <td>4783.0</td>\n",
       "    </tr>\n",
       "  </tbody>\n",
       "</table>\n",
       "<p>8 rows × 50 columns</p>\n",
       "</div>"
      ],
      "text/plain": [
       "          ☺       ♀      ♂      ✌       ✨        ❤      🎉      🏻      🏼  \\\n",
       "year                                                                      \n",
       "2014  741.0     0.0    0.0  474.0  1699.0   8110.0  355.0    0.0    0.0   \n",
       "2015  581.0     0.0    0.0  385.0  2774.0  11655.0  450.0  459.0  623.0   \n",
       "2016  327.0    23.0   16.0  249.0  1854.0   9879.0  389.0  654.0  752.0   \n",
       "2017  200.0  1088.0  411.0  205.0  2110.0  10199.0  336.0  782.0  764.0   \n",
       "2018  186.0  1205.0  621.0  196.0  2052.0  10434.0  252.0  836.0  668.0   \n",
       "2019  186.0   871.0  575.0  158.0  1879.0   9156.0  182.0  642.0  543.0   \n",
       "2020  161.0   585.0  359.0  408.0  2857.0   9073.0  182.0  643.0  403.0   \n",
       "2021  206.0   388.0  326.0  152.0  3596.0   8968.0  207.0  616.0  321.0   \n",
       "\n",
       "           🏽  ...      😳      🙄       🙈       🙌       🙏       🤣      🤦      🤷  \\\n",
       "year          ...                                                               \n",
       "2014     0.0  ...  696.0    0.0  1047.0  1411.0  3865.0     0.0    0.0    0.0   \n",
       "2015   458.0  ...  314.0  105.0   781.0  1061.0  3569.0     0.0    0.0    0.0   \n",
       "2016   753.0  ...  218.0  848.0   356.0   614.0  1307.0    46.0   13.0    8.0   \n",
       "2017  1237.0  ...  164.0  519.0   258.0   594.0  1740.0  1245.0  775.0  668.0   \n",
       "2018  1085.0  ...  131.0  397.0   163.0   509.0  2056.0  2863.0  879.0  763.0   \n",
       "2019   847.0  ...  170.0  283.0   139.0   375.0  2269.0  3828.0  691.0  571.0   \n",
       "2020   610.0  ...  206.0  216.0   114.0   286.0  2710.0  4168.0  434.0  332.0   \n",
       "2021   463.0  ...  199.0  172.0   102.0   290.0  3517.0  4950.0  315.0  232.0   \n",
       "\n",
       "           🥰       🥺  \n",
       "year                  \n",
       "2014     0.0     0.0  \n",
       "2015     0.0     0.0  \n",
       "2016     0.0     0.0  \n",
       "2017     0.0     0.0  \n",
       "2018   354.0    77.0  \n",
       "2019  2227.0  3073.0  \n",
       "2020  2578.0  6134.0  \n",
       "2021  3114.0  4783.0  \n",
       "\n",
       "[8 rows x 50 columns]"
      ]
     },
     "execution_count": 39,
     "metadata": {},
     "output_type": "execute_result"
    }
   ],
   "source": [
    "yearly_emoji_sums = emojis_year.groupby(\"year\").sum()\n",
    "yearly_emoji_sums"
   ]
  },
  {
   "cell_type": "code",
   "execution_count": null,
   "id": "6526d5c9",
   "metadata": {},
   "outputs": [],
   "source": []
  },
  {
   "cell_type": "markdown",
   "id": "45bdfa3e",
   "metadata": {},
   "source": [
    "Retain the tweets that feature of the top 50 emojis."
   ]
  },
  {
   "cell_type": "code",
   "execution_count": 40,
   "id": "10739b18",
   "metadata": {},
   "outputs": [
    {
     "data": {
      "text/html": [
       "<div>\n",
       "<style scoped>\n",
       "    .dataframe tbody tr th:only-of-type {\n",
       "        vertical-align: middle;\n",
       "    }\n",
       "\n",
       "    .dataframe tbody tr th {\n",
       "        vertical-align: top;\n",
       "    }\n",
       "\n",
       "    .dataframe thead th {\n",
       "        text-align: right;\n",
       "    }\n",
       "</style>\n",
       "<table border=\"1\" class=\"dataframe\">\n",
       "  <thead>\n",
       "    <tr style=\"text-align: right;\">\n",
       "      <th></th>\n",
       "      <th>author_id</th>\n",
       "      <th>created_at</th>\n",
       "      <th>geo</th>\n",
       "      <th>tweet_id</th>\n",
       "      <th>like_count</th>\n",
       "      <th>quote_count</th>\n",
       "      <th>reply_count</th>\n",
       "      <th>retweet_count</th>\n",
       "      <th>text</th>\n",
       "      <th>year</th>\n",
       "    </tr>\n",
       "  </thead>\n",
       "  <tbody>\n",
       "    <tr>\n",
       "      <th>0</th>\n",
       "      <td>431948312</td>\n",
       "      <td>2017-01-30 23:55:49+00:00</td>\n",
       "      <td></td>\n",
       "      <td>826217383039729664</td>\n",
       "      <td>0.0</td>\n",
       "      <td>0.0</td>\n",
       "      <td>0.0</td>\n",
       "      <td>0.0</td>\n",
       "      <td>We have the power👊💥😂💚 https://t.co/8en3JNwkny</td>\n",
       "      <td>2017</td>\n",
       "    </tr>\n",
       "    <tr>\n",
       "      <th>1</th>\n",
       "      <td>418718492</td>\n",
       "      <td>2017-05-30 23:56:15+00:00</td>\n",
       "      <td></td>\n",
       "      <td>869704038048202752</td>\n",
       "      <td>0.0</td>\n",
       "      <td>0.0</td>\n",
       "      <td>0.0</td>\n",
       "      <td>0.0</td>\n",
       "      <td>Sleep would be nice but Maiyahs cosies are bet...</td>\n",
       "      <td>2017</td>\n",
       "    </tr>\n",
       "    <tr>\n",
       "      <th>2</th>\n",
       "      <td>340099697</td>\n",
       "      <td>2016-10-30 23:57:35+00:00</td>\n",
       "      <td>{'place_id': '31fd9d42c71e7afa'}</td>\n",
       "      <td>792878143887605760</td>\n",
       "      <td>1.0</td>\n",
       "      <td>0.0</td>\n",
       "      <td>0.0</td>\n",
       "      <td>0.0</td>\n",
       "      <td>Lynn mad af cause Eric ate her chocolate chip ...</td>\n",
       "      <td>2016</td>\n",
       "    </tr>\n",
       "    <tr>\n",
       "      <th>3</th>\n",
       "      <td>1249825087525728257</td>\n",
       "      <td>2020-10-30 23:59:39+00:00</td>\n",
       "      <td></td>\n",
       "      <td>1322327339200630784</td>\n",
       "      <td>0.0</td>\n",
       "      <td>0.0</td>\n",
       "      <td>0.0</td>\n",
       "      <td>0.0</td>\n",
       "      <td>@KaileGedye text me cus I haven’t 🤣</td>\n",
       "      <td>2020</td>\n",
       "    </tr>\n",
       "    <tr>\n",
       "      <th>4</th>\n",
       "      <td>205097885</td>\n",
       "      <td>2018-03-30 23:54:29+00:00</td>\n",
       "      <td></td>\n",
       "      <td>979869505622069248</td>\n",
       "      <td>0.0</td>\n",
       "      <td>0.0</td>\n",
       "      <td>1.0</td>\n",
       "      <td>0.0</td>\n",
       "      <td>@juanlabia @Skelebird Yea but i feel like you ...</td>\n",
       "      <td>2018</td>\n",
       "    </tr>\n",
       "  </tbody>\n",
       "</table>\n",
       "</div>"
      ],
      "text/plain": [
       "             author_id                created_at  \\\n",
       "0            431948312 2017-01-30 23:55:49+00:00   \n",
       "1            418718492 2017-05-30 23:56:15+00:00   \n",
       "2            340099697 2016-10-30 23:57:35+00:00   \n",
       "3  1249825087525728257 2020-10-30 23:59:39+00:00   \n",
       "4            205097885 2018-03-30 23:54:29+00:00   \n",
       "\n",
       "                                geo             tweet_id  like_count  \\\n",
       "0                                     826217383039729664         0.0   \n",
       "1                                     869704038048202752         0.0   \n",
       "2  {'place_id': '31fd9d42c71e7afa'}   792878143887605760         1.0   \n",
       "3                                    1322327339200630784         0.0   \n",
       "4                                     979869505622069248         0.0   \n",
       "\n",
       "   quote_count  reply_count  retweet_count  \\\n",
       "0          0.0          0.0            0.0   \n",
       "1          0.0          0.0            0.0   \n",
       "2          0.0          0.0            0.0   \n",
       "3          0.0          0.0            0.0   \n",
       "4          0.0          1.0            0.0   \n",
       "\n",
       "                                                text  year  \n",
       "0      We have the power👊💥😂💚 https://t.co/8en3JNwkny  2017  \n",
       "1  Sleep would be nice but Maiyahs cosies are bet...  2017  \n",
       "2  Lynn mad af cause Eric ate her chocolate chip ...  2016  \n",
       "3                @KaileGedye text me cus I haven’t 🤣  2020  \n",
       "4  @juanlabia @Skelebird Yea but i feel like you ...  2018  "
      ]
     },
     "execution_count": 40,
     "metadata": {},
     "output_type": "execute_result"
    }
   ],
   "source": [
    "df = df[df.tweet_id.isin(top_emojis_dtm.index)]\n",
    "df.head()"
   ]
  },
  {
   "cell_type": "markdown",
   "id": "620ae057",
   "metadata": {},
   "source": [
    "Load the Bertweet tokenizer and model."
   ]
  },
  {
   "cell_type": "code",
   "execution_count": 42,
   "id": "bdf168a1",
   "metadata": {},
   "outputs": [
    {
     "name": "stderr",
     "output_type": "stream",
     "text": [
      "Special tokens have been added in the vocabulary, make sure the associated word embeddings are fine-tuned or trained.\n",
      "Some weights of the model checkpoint at vinai/bertweet-base were not used when initializing RobertaModel: ['lm_head.bias', 'lm_head.layer_norm.bias', 'lm_head.dense.bias', 'lm_head.decoder.weight', 'lm_head.decoder.bias', 'lm_head.layer_norm.weight', 'lm_head.dense.weight']\n",
      "- This IS expected if you are initializing RobertaModel from the checkpoint of a model trained on another task or with another architecture (e.g. initializing a BertForSequenceClassification model from a BertForPreTraining model).\n",
      "- This IS NOT expected if you are initializing RobertaModel from the checkpoint of a model that you expect to be exactly identical (initializing a BertForSequenceClassification model from a BertForSequenceClassification model).\n"
     ]
    }
   ],
   "source": [
    "# Load the AutoTokenizer with a normalization mode if the input Tweet is raw\n",
    "tokenizer = AutoTokenizer.from_pretrained(\"vinai/bertweet-base\", normalization=True, use_fast=False)\n",
    "bertweet = AutoModel.from_pretrained(\"vinai/bertweet-base\")"
   ]
  },
  {
   "cell_type": "markdown",
   "id": "5d76a351",
   "metadata": {},
   "source": [
    "Not all emojis will work for this analysis because some are not recognized by bertweet or are tokenized into subword tokens.\n",
    "\n",
    "Therefor I need to filter those emojis out."
   ]
  },
  {
   "cell_type": "code",
   "execution_count": 59,
   "id": "b42f4d7a",
   "metadata": {},
   "outputs": [
    {
     "name": "stdout",
     "output_type": "stream",
     "text": [
      "🏼 is an unknown token or is tokenized into subwords\n",
      "🏾 is an unknown token or is tokenized into subwords\n",
      "🥰 is an unknown token or is tokenized into subwords\n"
     ]
    }
   ],
   "source": [
    "emoji_ids = []\n",
    "for e in top_emojis:\n",
    "    e_code = emoji.EMOJI_DATA[e]['en']\n",
    "    try:\n",
    "        token_id = vocab[e_code]\n",
    "        emoji_ids.append(token_id)\n",
    "    except KeyError:\n",
    "        print(\"{} is an unknown token or is tokenized into subwords\".format(e))"
   ]
  },
  {
   "cell_type": "code",
   "execution_count": null,
   "id": "59f8229b",
   "metadata": {},
   "outputs": [],
   "source": []
  },
  {
   "cell_type": "code",
   "execution_count": null,
   "id": "00dc369d",
   "metadata": {},
   "outputs": [],
   "source": []
  },
  {
   "cell_type": "markdown",
   "id": "3ac158a6",
   "metadata": {},
   "source": [
    "### Emoji embedding ETL"
   ]
  },
  {
   "cell_type": "markdown",
   "id": "b00f8753",
   "metadata": {},
   "source": [
    "I demonstrate my process with this example tweet below."
   ]
  },
  {
   "cell_type": "code",
   "execution_count": 58,
   "id": "2dda0583",
   "metadata": {},
   "outputs": [
    {
     "data": {
      "text/plain": [
       "'@SherriTeri_FR goodnight rest well sweet dreams &amp; enjoy tomorrow❤️😃✌️😘'"
      ]
     },
     "execution_count": 58,
     "metadata": {},
     "output_type": "execute_result"
    }
   ],
   "source": [
    "line = df.text.iloc[130700]\n",
    "line"
   ]
  },
  {
   "cell_type": "markdown",
   "id": "9aa01369",
   "metadata": {},
   "source": [
    "1. Encode the raw tweet text, basically convert the texts into token ids."
   ]
  },
  {
   "cell_type": "code",
   "execution_count": 63,
   "id": "5db4238f",
   "metadata": {},
   "outputs": [
    {
     "data": {
      "text/plain": [
       "['@USER',\n",
       " 'goodnight',\n",
       " 'rest',\n",
       " 'well',\n",
       " 'sweet',\n",
       " 'dreams',\n",
       " '&',\n",
       " 'enjoy',\n",
       " 'tomorrow',\n",
       " ':red_heart:',\n",
       " ':grinning_face_with_big_eyes:',\n",
       " ':victory_hand:',\n",
       " ':face_blowing_a_kiss:']"
      ]
     },
     "execution_count": 63,
     "metadata": {},
     "output_type": "execute_result"
    }
   ],
   "source": [
    "tokenizer.tokenize(line)"
   ]
  },
  {
   "cell_type": "code",
   "execution_count": 61,
   "id": "39152cd5",
   "metadata": {},
   "outputs": [
    {
     "data": {
      "text/plain": [
       "array([   0,    5, 4515,  765,  182, 1005, 1516,   55,  982,  266,  280,\n",
       "       3475, 1672,  722,    2])"
      ]
     },
     "execution_count": 61,
     "metadata": {},
     "output_type": "execute_result"
    }
   ],
   "source": [
    "token_ids = np.array(tokenizer.encode(line))\n",
    "token_ids"
   ]
  },
  {
   "cell_type": "markdown",
   "id": "8c585e19",
   "metadata": {},
   "source": [
    "2. Determine which tokens are emojis. This step returns a boolean mask where True means emoji token and False means not."
   ]
  },
  {
   "cell_type": "code",
   "execution_count": 62,
   "id": "58bb16b7",
   "metadata": {},
   "outputs": [
    {
     "data": {
      "text/plain": [
       "array([False, False, False, False, False, False, False, False, False,\n",
       "       False,  True, False,  True,  True, False])"
      ]
     },
     "execution_count": 62,
     "metadata": {},
     "output_type": "execute_result"
    }
   ],
   "source": [
    "emoji_bools = np.isin(token_ids, emoji_ids)\n",
    "emoji_bools"
   ]
  },
  {
   "cell_type": "markdown",
   "id": "a2ff034b",
   "metadata": {},
   "source": [
    "3. Grab just the emoji token ids."
   ]
  },
  {
   "cell_type": "code",
   "execution_count": 66,
   "id": "e72d6eab",
   "metadata": {},
   "outputs": [
    {
     "data": {
      "text/plain": [
       "array([ 280, 1672,  722])"
      ]
     },
     "execution_count": 66,
     "metadata": {},
     "output_type": "execute_result"
    }
   ],
   "source": [
    "emoji_tokens = token_ids[emoji_bools]\n",
    "emoji_tokens"
   ]
  },
  {
   "cell_type": "markdown",
   "id": "22e9a88d",
   "metadata": {},
   "source": [
    "4. Generate embeddings from the encoded text using bertweet"
   ]
  },
  {
   "cell_type": "code",
   "execution_count": 67,
   "id": "a9e894ee",
   "metadata": {},
   "outputs": [
    {
     "name": "stderr",
     "output_type": "stream",
     "text": [
      "/var/folders/lj/w4hy005d5vx9qy3lrwz0xdl80000gn/T/ipykernel_35886/2425958554.py:2: UserWarning: Creating a tensor from a list of numpy.ndarrays is extremely slow. Please consider converting the list to a single numpy.ndarray with numpy.array() before converting to a tensor. (Triggered internally at  ../torch/csrc/utils/tensor_new.cpp:201.)\n",
      "  embeddings = bertweet(torch.tensor([token_ids]))[0].numpy()[0]\n"
     ]
    }
   ],
   "source": [
    "with torch.no_grad():\n",
    "    embeddings = bertweet(torch.tensor([token_ids]))[0].numpy()[0]"
   ]
  },
  {
   "cell_type": "code",
   "execution_count": 69,
   "id": "e447e2c1",
   "metadata": {},
   "outputs": [
    {
     "data": {
      "text/plain": [
       "(15, 768)"
      ]
     },
     "execution_count": 69,
     "metadata": {},
     "output_type": "execute_result"
    }
   ],
   "source": [
    "embeddings.shape"
   ]
  },
  {
   "cell_type": "markdown",
   "id": "e489b528",
   "metadata": {},
   "source": [
    "5. Use the emoji boolean mask to grab the emoji embeddings."
   ]
  },
  {
   "cell_type": "code",
   "execution_count": 70,
   "id": "0a7dd541",
   "metadata": {},
   "outputs": [
    {
     "data": {
      "text/plain": [
       "array([[-0.66483027,  0.2755706 ,  0.17657888, ...,  0.19420546,\n",
       "        -0.41890293,  0.11247531],\n",
       "       [-0.7519687 ,  0.36873898,  0.0111955 , ...,  0.19940768,\n",
       "        -0.09566376,  0.05310378],\n",
       "       [-0.6289631 ,  0.26437992,  0.02097072, ...,  0.1942093 ,\n",
       "        -0.26012963,  0.0428402 ]], dtype=float32)"
      ]
     },
     "execution_count": 70,
     "metadata": {},
     "output_type": "execute_result"
    }
   ],
   "source": [
    "emoji_embeddings = embeddings[emoji_bools]\n",
    "emoji_embeddings"
   ]
  },
  {
   "cell_type": "code",
   "execution_count": 71,
   "id": "7a802bd3",
   "metadata": {},
   "outputs": [
    {
     "data": {
      "text/plain": [
       "(3, 768)"
      ]
     },
     "execution_count": 71,
     "metadata": {},
     "output_type": "execute_result"
    }
   ],
   "source": [
    "emoji_embeddings.shape"
   ]
  },
  {
   "cell_type": "markdown",
   "id": "fd4dbb24",
   "metadata": {},
   "source": [
    "6. The next step involves organizing this data in a way that keeps track of the emoji ids, embeddings,and the tweet ids."
   ]
  },
  {
   "cell_type": "code",
   "execution_count": null,
   "id": "608d9de7",
   "metadata": {},
   "outputs": [],
   "source": []
  },
  {
   "cell_type": "code",
   "execution_count": null,
   "id": "749a7b89",
   "metadata": {},
   "outputs": [],
   "source": []
  },
  {
   "cell_type": "markdown",
   "id": "7f6dee0a",
   "metadata": {},
   "source": [
    "### The full process\n",
    "\n",
    "This is the full pipeline where I iterate over each tweet and perform the ETL step shown above. "
   ]
  },
  {
   "cell_type": "code",
   "execution_count": 80,
   "id": "bc762d70",
   "metadata": {},
   "outputs": [],
   "source": [
    "text_dict = iter(df.set_index(\"tweet_id\").text.to_dict().items())"
   ]
  },
  {
   "cell_type": "markdown",
   "id": "63909ac1",
   "metadata": {},
   "source": [
    "The `vectors` dictionary where I will store the results of the ETL process. \n",
    "\n",
    "The keys are emoji ids and their values are defaultdicts who keys are tweet ids and values is a list of that emoji's embeddings in that tweet.\n",
    "\n",
    "The structure looks like this:\n",
    "\n",
    "\n",
    "```\n",
    "{\n",
    "   emoji_id: {\n",
    "      tweet_id: [\n",
    "         embedding,\n",
    "         embedding,\n",
    "         \"...\"\n",
    "      ]\n",
    "   }\n",
    "}\n",
    "```"
   ]
  },
  {
   "cell_type": "code",
   "execution_count": 74,
   "id": "385e6073",
   "metadata": {},
   "outputs": [],
   "source": [
    "vectors = {i:defaultdict(list) for i in emoji_ids}"
   ]
  },
  {
   "cell_type": "code",
   "execution_count": 83,
   "id": "2436e7b1",
   "metadata": {},
   "outputs": [
    {
     "name": "stderr",
     "output_type": "stream",
     "text": [
      "100%|█████████████████████████████████████████████████████████████████████████████████████████████████████████████████████▉| 517500/517501 [10:48:38<00:00, 13.30it/s]\n"
     ]
    }
   ],
   "source": [
    "n_tweets = df.tweet_id.nunique()\n",
    "for iD, text in tqdm(text_dict, total = n_tweets):\n",
    "    token_ids = np.array(tokenizer.encode(text,truncation=True))\n",
    "    emoji_bools = np.isin(token_ids, emoji_ids)\n",
    "    emoji_tokens = token_ids[emoji_bools]\n",
    "    \n",
    "    with torch.no_grad():\n",
    "        embeddings = bertweet(torch.tensor([token_ids]))[0].numpy()[0]\n",
    "        \n",
    "    emoji_embeddings = embeddings[emoji_bools]\n",
    "    \n",
    "    for i, e in enumerate(emoji_tokens):\n",
    "        vectors[e][iD].append(emoji_embeddings[i])"
   ]
  },
  {
   "cell_type": "code",
   "execution_count": null,
   "id": "f03d85a8",
   "metadata": {},
   "outputs": [],
   "source": []
  },
  {
   "cell_type": "code",
   "execution_count": 84,
   "id": "b0de8d47",
   "metadata": {},
   "outputs": [],
   "source": [
    "vector_dataframes = []\n",
    "for ei, emoji_data in vectors.items():\n",
    "    vector_df = defaultdict(list)\n",
    "    for iD, embeds in emoji_data.items():\n",
    "        for emb in embeds:\n",
    "            vector_df[\"tweet_id\"].append(iD)\n",
    "            vector_df[\"embedding\"].append(emb)\n",
    "    vector_df = pd.DataFrame(vector_df)\n",
    "    vector_df[\"emoji_id\"] = ei\n",
    "    vector_dataframes.append(vector_df)"
   ]
  },
  {
   "cell_type": "code",
   "execution_count": 85,
   "id": "72655c91",
   "metadata": {},
   "outputs": [],
   "source": [
    "vector_dataframes = pd.concat(vector_dataframes)"
   ]
  },
  {
   "cell_type": "code",
   "execution_count": 86,
   "id": "2babc498",
   "metadata": {},
   "outputs": [],
   "source": [
    "vector_dataframes.to_pickle(\"emoji_vectors_data.pkl\")"
   ]
  },
  {
   "cell_type": "code",
   "execution_count": null,
   "id": "22565291",
   "metadata": {},
   "outputs": [],
   "source": []
  },
  {
   "cell_type": "code",
   "execution_count": null,
   "id": "8233e27d",
   "metadata": {},
   "outputs": [],
   "source": []
  }
 ],
 "metadata": {
  "kernelspec": {
   "display_name": "Python 3 (ipykernel)",
   "language": "python",
   "name": "python3"
  },
  "language_info": {
   "codemirror_mode": {
    "name": "ipython",
    "version": 3
   },
   "file_extension": ".py",
   "mimetype": "text/x-python",
   "name": "python",
   "nbconvert_exporter": "python",
   "pygments_lexer": "ipython3",
   "version": "3.9.12"
  }
 },
 "nbformat": 4,
 "nbformat_minor": 5
}
